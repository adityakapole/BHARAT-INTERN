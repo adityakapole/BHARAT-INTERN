{
 "cells": [
  {
   "cell_type": "code",
   "execution_count": 1,
   "id": "3a232cb0-2d63-44f9-a4db-20745f38adce",
   "metadata": {},
   "outputs": [
    {
     "data": {
      "text/html": [
       "<div>\n",
       "<style scoped>\n",
       "    .dataframe tbody tr th:only-of-type {\n",
       "        vertical-align: middle;\n",
       "    }\n",
       "\n",
       "    .dataframe tbody tr th {\n",
       "        vertical-align: top;\n",
       "    }\n",
       "\n",
       "    .dataframe thead th {\n",
       "        text-align: right;\n",
       "    }\n",
       "</style>\n",
       "<table border=\"1\" class=\"dataframe\">\n",
       "  <thead>\n",
       "    <tr style=\"text-align: right;\">\n",
       "      <th></th>\n",
       "      <th>Date</th>\n",
       "      <th>Open</th>\n",
       "      <th>High</th>\n",
       "      <th>Low</th>\n",
       "      <th>Close</th>\n",
       "      <th>Volume</th>\n",
       "    </tr>\n",
       "  </thead>\n",
       "  <tbody>\n",
       "    <tr>\n",
       "      <th>0</th>\n",
       "      <td>2021-04-05 15:30:00</td>\n",
       "      <td>92.40</td>\n",
       "      <td>93.75</td>\n",
       "      <td>89.2</td>\n",
       "      <td>93.75</td>\n",
       "      <td>26119543.0</td>\n",
       "    </tr>\n",
       "    <tr>\n",
       "      <th>1</th>\n",
       "      <td>2021-04-06 15:30:00</td>\n",
       "      <td>97.90</td>\n",
       "      <td>98.40</td>\n",
       "      <td>97.5</td>\n",
       "      <td>98.40</td>\n",
       "      <td>3367192.0</td>\n",
       "    </tr>\n",
       "    <tr>\n",
       "      <th>2</th>\n",
       "      <td>2021-04-07 15:30:00</td>\n",
       "      <td>103.30</td>\n",
       "      <td>103.30</td>\n",
       "      <td>95.5</td>\n",
       "      <td>99.95</td>\n",
       "      <td>60992792.0</td>\n",
       "    </tr>\n",
       "    <tr>\n",
       "      <th>3</th>\n",
       "      <td>2021-04-08 15:30:00</td>\n",
       "      <td>100.60</td>\n",
       "      <td>102.00</td>\n",
       "      <td>96.8</td>\n",
       "      <td>97.40</td>\n",
       "      <td>19905893.0</td>\n",
       "    </tr>\n",
       "    <tr>\n",
       "      <th>4</th>\n",
       "      <td>2021-04-09 15:30:00</td>\n",
       "      <td>97.40</td>\n",
       "      <td>99.80</td>\n",
       "      <td>94.6</td>\n",
       "      <td>97.65</td>\n",
       "      <td>18604791.0</td>\n",
       "    </tr>\n",
       "    <tr>\n",
       "      <th>...</th>\n",
       "      <td>...</td>\n",
       "      <td>...</td>\n",
       "      <td>...</td>\n",
       "      <td>...</td>\n",
       "      <td>...</td>\n",
       "      <td>...</td>\n",
       "    </tr>\n",
       "    <tr>\n",
       "      <th>627</th>\n",
       "      <td>2023-10-16 15:30:00</td>\n",
       "      <td>341.10</td>\n",
       "      <td>343.65</td>\n",
       "      <td>327.0</td>\n",
       "      <td>329.65</td>\n",
       "      <td>5569553.0</td>\n",
       "    </tr>\n",
       "    <tr>\n",
       "      <th>628</th>\n",
       "      <td>2023-10-17 15:30:00</td>\n",
       "      <td>331.95</td>\n",
       "      <td>344.40</td>\n",
       "      <td>331.9</td>\n",
       "      <td>335.50</td>\n",
       "      <td>4646955.0</td>\n",
       "    </tr>\n",
       "    <tr>\n",
       "      <th>629</th>\n",
       "      <td>2023-10-18 15:30:00</td>\n",
       "      <td>337.00</td>\n",
       "      <td>339.70</td>\n",
       "      <td>332.0</td>\n",
       "      <td>333.95</td>\n",
       "      <td>2269766.0</td>\n",
       "    </tr>\n",
       "    <tr>\n",
       "      <th>630</th>\n",
       "      <td>2023-10-19 15:30:00</td>\n",
       "      <td>333.90</td>\n",
       "      <td>346.70</td>\n",
       "      <td>331.0</td>\n",
       "      <td>344.45</td>\n",
       "      <td>5032636.0</td>\n",
       "    </tr>\n",
       "    <tr>\n",
       "      <th>631</th>\n",
       "      <td>2023-10-20 15:30:00</td>\n",
       "      <td>343.00</td>\n",
       "      <td>346.30</td>\n",
       "      <td>335.0</td>\n",
       "      <td>338.30</td>\n",
       "      <td>3464389.0</td>\n",
       "    </tr>\n",
       "  </tbody>\n",
       "</table>\n",
       "<p>632 rows × 6 columns</p>\n",
       "</div>"
      ],
      "text/plain": [
       "                   Date    Open    High    Low   Close      Volume\n",
       "0   2021-04-05 15:30:00   92.40   93.75   89.2   93.75  26119543.0\n",
       "1   2021-04-06 15:30:00   97.90   98.40   97.5   98.40   3367192.0\n",
       "2   2021-04-07 15:30:00  103.30  103.30   95.5   99.95  60992792.0\n",
       "3   2021-04-08 15:30:00  100.60  102.00   96.8   97.40  19905893.0\n",
       "4   2021-04-09 15:30:00   97.40   99.80   94.6   97.65  18604791.0\n",
       "..                  ...     ...     ...    ...     ...         ...\n",
       "627 2023-10-16 15:30:00  341.10  343.65  327.0  329.65   5569553.0\n",
       "628 2023-10-17 15:30:00  331.95  344.40  331.9  335.50   4646955.0\n",
       "629 2023-10-18 15:30:00  337.00  339.70  332.0  333.95   2269766.0\n",
       "630 2023-10-19 15:30:00  333.90  346.70  331.0  344.45   5032636.0\n",
       "631 2023-10-20 15:30:00  343.00  346.30  335.0  338.30   3464389.0\n",
       "\n",
       "[632 rows x 6 columns]"
      ]
     },
     "execution_count": 1,
     "metadata": {},
     "output_type": "execute_result"
    }
   ],
   "source": [
    "import pandas as pd\n",
    "df=pd.read_excel('datas.xlsx')\n",
    "df"
   ]
  },
  {
   "cell_type": "code",
   "execution_count": 2,
   "id": "3a640a60-3ed1-4a5f-9017-2287ea39e42a",
   "metadata": {},
   "outputs": [
    {
     "data": {
      "text/html": [
       "<div>\n",
       "<style scoped>\n",
       "    .dataframe tbody tr th:only-of-type {\n",
       "        vertical-align: middle;\n",
       "    }\n",
       "\n",
       "    .dataframe tbody tr th {\n",
       "        vertical-align: top;\n",
       "    }\n",
       "\n",
       "    .dataframe thead th {\n",
       "        text-align: right;\n",
       "    }\n",
       "</style>\n",
       "<table border=\"1\" class=\"dataframe\">\n",
       "  <thead>\n",
       "    <tr style=\"text-align: right;\">\n",
       "      <th></th>\n",
       "      <th>Date</th>\n",
       "      <th>Close</th>\n",
       "    </tr>\n",
       "  </thead>\n",
       "  <tbody>\n",
       "    <tr>\n",
       "      <th>0</th>\n",
       "      <td>2021-04-05 15:30:00</td>\n",
       "      <td>93.75</td>\n",
       "    </tr>\n",
       "    <tr>\n",
       "      <th>1</th>\n",
       "      <td>2021-04-06 15:30:00</td>\n",
       "      <td>98.40</td>\n",
       "    </tr>\n",
       "    <tr>\n",
       "      <th>2</th>\n",
       "      <td>2021-04-07 15:30:00</td>\n",
       "      <td>99.95</td>\n",
       "    </tr>\n",
       "    <tr>\n",
       "      <th>3</th>\n",
       "      <td>2021-04-08 15:30:00</td>\n",
       "      <td>97.40</td>\n",
       "    </tr>\n",
       "    <tr>\n",
       "      <th>4</th>\n",
       "      <td>2021-04-09 15:30:00</td>\n",
       "      <td>97.65</td>\n",
       "    </tr>\n",
       "    <tr>\n",
       "      <th>...</th>\n",
       "      <td>...</td>\n",
       "      <td>...</td>\n",
       "    </tr>\n",
       "    <tr>\n",
       "      <th>627</th>\n",
       "      <td>2023-10-16 15:30:00</td>\n",
       "      <td>329.65</td>\n",
       "    </tr>\n",
       "    <tr>\n",
       "      <th>628</th>\n",
       "      <td>2023-10-17 15:30:00</td>\n",
       "      <td>335.50</td>\n",
       "    </tr>\n",
       "    <tr>\n",
       "      <th>629</th>\n",
       "      <td>2023-10-18 15:30:00</td>\n",
       "      <td>333.95</td>\n",
       "    </tr>\n",
       "    <tr>\n",
       "      <th>630</th>\n",
       "      <td>2023-10-19 15:30:00</td>\n",
       "      <td>344.45</td>\n",
       "    </tr>\n",
       "    <tr>\n",
       "      <th>631</th>\n",
       "      <td>2023-10-20 15:30:00</td>\n",
       "      <td>338.30</td>\n",
       "    </tr>\n",
       "  </tbody>\n",
       "</table>\n",
       "<p>632 rows × 2 columns</p>\n",
       "</div>"
      ],
      "text/plain": [
       "                   Date   Close\n",
       "0   2021-04-05 15:30:00   93.75\n",
       "1   2021-04-06 15:30:00   98.40\n",
       "2   2021-04-07 15:30:00   99.95\n",
       "3   2021-04-08 15:30:00   97.40\n",
       "4   2021-04-09 15:30:00   97.65\n",
       "..                  ...     ...\n",
       "627 2023-10-16 15:30:00  329.65\n",
       "628 2023-10-17 15:30:00  335.50\n",
       "629 2023-10-18 15:30:00  333.95\n",
       "630 2023-10-19 15:30:00  344.45\n",
       "631 2023-10-20 15:30:00  338.30\n",
       "\n",
       "[632 rows x 2 columns]"
      ]
     },
     "execution_count": 2,
     "metadata": {},
     "output_type": "execute_result"
    }
   ],
   "source": [
    "df =df[['Date','Close']]\n",
    "df"
   ]
  },
  {
   "cell_type": "code",
   "execution_count": 3,
   "id": "0b2163d7-3ede-40fb-b7eb-f39f0c9ded3f",
   "metadata": {},
   "outputs": [
    {
     "data": {
      "text/plain": [
       "0     2021-04-05 15:30:00\n",
       "1     2021-04-06 15:30:00\n",
       "2     2021-04-07 15:30:00\n",
       "3     2021-04-08 15:30:00\n",
       "4     2021-04-09 15:30:00\n",
       "              ...        \n",
       "627   2023-10-16 15:30:00\n",
       "628   2023-10-17 15:30:00\n",
       "629   2023-10-18 15:30:00\n",
       "630   2023-10-19 15:30:00\n",
       "631   2023-10-20 15:30:00\n",
       "Name: Date, Length: 632, dtype: datetime64[ns]"
      ]
     },
     "execution_count": 3,
     "metadata": {},
     "output_type": "execute_result"
    }
   ],
   "source": [
    "df['Date']"
   ]
  },
  {
   "cell_type": "code",
   "execution_count": 4,
   "id": "e1841b10-57fd-4462-b0da-69088bd53845",
   "metadata": {},
   "outputs": [
    {
     "data": {
      "text/plain": [
       "datetime.datetime(1986, 3, 19, 0, 0)"
      ]
     },
     "execution_count": 4,
     "metadata": {},
     "output_type": "execute_result"
    }
   ],
   "source": [
    "import datetime\n",
    "def str_to_datetime(s):\n",
    "    split = s.split('-')\n",
    "    year,month,day = int(split[0]),int(split[1]),int(split[2])\n",
    "    return datetime.datetime(year=year, month=month, day=day)\n",
    "\n",
    "datetime_object = str_to_datetime('1986-03-19')\n",
    "datetime_object"
   ]
  },
  {
   "cell_type": "code",
   "execution_count": 5,
   "id": "30e1d878-3224-4978-a4ac-9016dbee35c1",
   "metadata": {},
   "outputs": [
    {
     "data": {
      "text/html": [
       "<div>\n",
       "<style scoped>\n",
       "    .dataframe tbody tr th:only-of-type {\n",
       "        vertical-align: middle;\n",
       "    }\n",
       "\n",
       "    .dataframe tbody tr th {\n",
       "        vertical-align: top;\n",
       "    }\n",
       "\n",
       "    .dataframe thead th {\n",
       "        text-align: right;\n",
       "    }\n",
       "</style>\n",
       "<table border=\"1\" class=\"dataframe\">\n",
       "  <thead>\n",
       "    <tr style=\"text-align: right;\">\n",
       "      <th></th>\n",
       "      <th>Date</th>\n",
       "      <th>Close</th>\n",
       "    </tr>\n",
       "  </thead>\n",
       "  <tbody>\n",
       "    <tr>\n",
       "      <th>0</th>\n",
       "      <td>2021-04-05 15:30:00</td>\n",
       "      <td>93.75</td>\n",
       "    </tr>\n",
       "    <tr>\n",
       "      <th>1</th>\n",
       "      <td>2021-04-06 15:30:00</td>\n",
       "      <td>98.40</td>\n",
       "    </tr>\n",
       "    <tr>\n",
       "      <th>2</th>\n",
       "      <td>2021-04-07 15:30:00</td>\n",
       "      <td>99.95</td>\n",
       "    </tr>\n",
       "    <tr>\n",
       "      <th>3</th>\n",
       "      <td>2021-04-08 15:30:00</td>\n",
       "      <td>97.40</td>\n",
       "    </tr>\n",
       "    <tr>\n",
       "      <th>4</th>\n",
       "      <td>2021-04-09 15:30:00</td>\n",
       "      <td>97.65</td>\n",
       "    </tr>\n",
       "    <tr>\n",
       "      <th>...</th>\n",
       "      <td>...</td>\n",
       "      <td>...</td>\n",
       "    </tr>\n",
       "    <tr>\n",
       "      <th>627</th>\n",
       "      <td>2023-10-16 15:30:00</td>\n",
       "      <td>329.65</td>\n",
       "    </tr>\n",
       "    <tr>\n",
       "      <th>628</th>\n",
       "      <td>2023-10-17 15:30:00</td>\n",
       "      <td>335.50</td>\n",
       "    </tr>\n",
       "    <tr>\n",
       "      <th>629</th>\n",
       "      <td>2023-10-18 15:30:00</td>\n",
       "      <td>333.95</td>\n",
       "    </tr>\n",
       "    <tr>\n",
       "      <th>630</th>\n",
       "      <td>2023-10-19 15:30:00</td>\n",
       "      <td>344.45</td>\n",
       "    </tr>\n",
       "    <tr>\n",
       "      <th>631</th>\n",
       "      <td>2023-10-20 15:30:00</td>\n",
       "      <td>338.30</td>\n",
       "    </tr>\n",
       "  </tbody>\n",
       "</table>\n",
       "<p>632 rows × 2 columns</p>\n",
       "</div>"
      ],
      "text/plain": [
       "                   Date   Close\n",
       "0   2021-04-05 15:30:00   93.75\n",
       "1   2021-04-06 15:30:00   98.40\n",
       "2   2021-04-07 15:30:00   99.95\n",
       "3   2021-04-08 15:30:00   97.40\n",
       "4   2021-04-09 15:30:00   97.65\n",
       "..                  ...     ...\n",
       "627 2023-10-16 15:30:00  329.65\n",
       "628 2023-10-17 15:30:00  335.50\n",
       "629 2023-10-18 15:30:00  333.95\n",
       "630 2023-10-19 15:30:00  344.45\n",
       "631 2023-10-20 15:30:00  338.30\n",
       "\n",
       "[632 rows x 2 columns]"
      ]
     },
     "execution_count": 5,
     "metadata": {},
     "output_type": "execute_result"
    }
   ],
   "source": [
    "df"
   ]
  },
  {
   "cell_type": "code",
   "execution_count": 7,
   "id": "f7615930-0f74-4b3a-9ea9-6c47831c5dc8",
   "metadata": {},
   "outputs": [
    {
     "name": "stderr",
     "output_type": "stream",
     "text": [
      "C:\\Users\\Tejas\\AppData\\Local\\Temp\\ipykernel_2684\\1845543161.py:2: SettingWithCopyWarning: \n",
      "A value is trying to be set on a copy of a slice from a DataFrame.\n",
      "Try using .loc[row_indexer,col_indexer] = value instead\n",
      "\n",
      "See the caveats in the documentation: https://pandas.pydata.org/pandas-docs/stable/user_guide/indexing.html#returning-a-view-versus-a-copy\n",
      "  df['Date'] = pd.to_datetime(df['Date'])\n"
     ]
    },
    {
     "data": {
      "text/plain": [
       "0     2021-04-05 15:30:00\n",
       "1     2021-04-06 15:30:00\n",
       "2     2021-04-07 15:30:00\n",
       "3     2021-04-08 15:30:00\n",
       "4     2021-04-09 15:30:00\n",
       "              ...        \n",
       "627   2023-10-16 15:30:00\n",
       "628   2023-10-17 15:30:00\n",
       "629   2023-10-18 15:30:00\n",
       "630   2023-10-19 15:30:00\n",
       "631   2023-10-20 15:30:00\n",
       "Name: Date, Length: 632, dtype: datetime64[ns]"
      ]
     },
     "execution_count": 7,
     "metadata": {},
     "output_type": "execute_result"
    }
   ],
   "source": [
    "# df['Date']= df['Date'].apply(str_to_datetime)\n",
    "df['Date'] = pd.to_datetime(df['Date'])\n",
    "df['Date']"
   ]
  },
  {
   "cell_type": "code",
   "execution_count": 8,
   "id": "29881acb-8ad8-4e5a-ad96-96faf448f955",
   "metadata": {},
   "outputs": [
    {
     "data": {
      "text/html": [
       "<div>\n",
       "<style scoped>\n",
       "    .dataframe tbody tr th:only-of-type {\n",
       "        vertical-align: middle;\n",
       "    }\n",
       "\n",
       "    .dataframe tbody tr th {\n",
       "        vertical-align: top;\n",
       "    }\n",
       "\n",
       "    .dataframe thead th {\n",
       "        text-align: right;\n",
       "    }\n",
       "</style>\n",
       "<table border=\"1\" class=\"dataframe\">\n",
       "  <thead>\n",
       "    <tr style=\"text-align: right;\">\n",
       "      <th></th>\n",
       "      <th>Close</th>\n",
       "    </tr>\n",
       "    <tr>\n",
       "      <th>Date</th>\n",
       "      <th></th>\n",
       "    </tr>\n",
       "  </thead>\n",
       "  <tbody>\n",
       "    <tr>\n",
       "      <th>2021-04-05 15:30:00</th>\n",
       "      <td>93.75</td>\n",
       "    </tr>\n",
       "    <tr>\n",
       "      <th>2021-04-06 15:30:00</th>\n",
       "      <td>98.40</td>\n",
       "    </tr>\n",
       "    <tr>\n",
       "      <th>2021-04-07 15:30:00</th>\n",
       "      <td>99.95</td>\n",
       "    </tr>\n",
       "    <tr>\n",
       "      <th>2021-04-08 15:30:00</th>\n",
       "      <td>97.40</td>\n",
       "    </tr>\n",
       "    <tr>\n",
       "      <th>2021-04-09 15:30:00</th>\n",
       "      <td>97.65</td>\n",
       "    </tr>\n",
       "    <tr>\n",
       "      <th>...</th>\n",
       "      <td>...</td>\n",
       "    </tr>\n",
       "    <tr>\n",
       "      <th>2023-10-16 15:30:00</th>\n",
       "      <td>329.65</td>\n",
       "    </tr>\n",
       "    <tr>\n",
       "      <th>2023-10-17 15:30:00</th>\n",
       "      <td>335.50</td>\n",
       "    </tr>\n",
       "    <tr>\n",
       "      <th>2023-10-18 15:30:00</th>\n",
       "      <td>333.95</td>\n",
       "    </tr>\n",
       "    <tr>\n",
       "      <th>2023-10-19 15:30:00</th>\n",
       "      <td>344.45</td>\n",
       "    </tr>\n",
       "    <tr>\n",
       "      <th>2023-10-20 15:30:00</th>\n",
       "      <td>338.30</td>\n",
       "    </tr>\n",
       "  </tbody>\n",
       "</table>\n",
       "<p>632 rows × 1 columns</p>\n",
       "</div>"
      ],
      "text/plain": [
       "                      Close\n",
       "Date                       \n",
       "2021-04-05 15:30:00   93.75\n",
       "2021-04-06 15:30:00   98.40\n",
       "2021-04-07 15:30:00   99.95\n",
       "2021-04-08 15:30:00   97.40\n",
       "2021-04-09 15:30:00   97.65\n",
       "...                     ...\n",
       "2023-10-16 15:30:00  329.65\n",
       "2023-10-17 15:30:00  335.50\n",
       "2023-10-18 15:30:00  333.95\n",
       "2023-10-19 15:30:00  344.45\n",
       "2023-10-20 15:30:00  338.30\n",
       "\n",
       "[632 rows x 1 columns]"
      ]
     },
     "execution_count": 8,
     "metadata": {},
     "output_type": "execute_result"
    }
   ],
   "source": [
    "df.index=df.pop('Date')\n",
    "df"
   ]
  },
  {
   "cell_type": "code",
   "execution_count": 9,
   "id": "2b191dd6-8225-4b73-8c16-e8bc007f9ca0",
   "metadata": {},
   "outputs": [
    {
     "data": {
      "text/plain": [
       "[<matplotlib.lines.Line2D at 0x1f17497f310>]"
      ]
     },
     "execution_count": 9,
     "metadata": {},
     "output_type": "execute_result"
    },
    {
     "data": {
      "image/png": "[encoded data removed]",
      "text/plain": [
       "<Figure size 432x288 with 1 Axes>"
      ]
     },
     "metadata": {
      "needs_background": "light"
     },
     "output_type": "display_data"
    }
   ],
   "source": [
    "import matplotlib.pyplot as plt\n",
    "plt.plot(df.index,df['Close'])"
   ]
  },
  {
   "cell_type": "code",
   "execution_count": 11,
   "id": "68de4dec-c6bb-4b8a-9700-6bd49364682f",
   "metadata": {},
   "outputs": [
    {
     "data": {
      "text/html": [
       "<div>\n",
       "<style scoped>\n",
       "    .dataframe tbody tr th:only-of-type {\n",
       "        vertical-align: middle;\n",
       "    }\n",
       "\n",
       "    .dataframe tbody tr th {\n",
       "        vertical-align: top;\n",
       "    }\n",
       "\n",
       "    .dataframe thead th {\n",
       "        text-align: right;\n",
       "    }\n",
       "</style>\n",
       "<table border=\"1\" class=\"dataframe\">\n",
       "  <thead>\n",
       "    <tr style=\"text-align: right;\">\n",
       "      <th></th>\n",
       "      <th>Target Date</th>\n",
       "      <th>Target-3</th>\n",
       "      <th>Target-2</th>\n",
       "      <th>Target-1</th>\n",
       "      <th>Target</th>\n",
       "    </tr>\n",
       "  </thead>\n",
       "  <tbody>\n",
       "    <tr>\n",
       "      <th>0</th>\n",
       "      <td>2021-05-25</td>\n",
       "      <td>102.40</td>\n",
       "      <td>100.10</td>\n",
       "      <td>101.10</td>\n",
       "      <td>101.05</td>\n",
       "    </tr>\n",
       "    <tr>\n",
       "      <th>1</th>\n",
       "      <td>2021-05-26</td>\n",
       "      <td>100.10</td>\n",
       "      <td>101.10</td>\n",
       "      <td>101.05</td>\n",
       "      <td>100.40</td>\n",
       "    </tr>\n",
       "    <tr>\n",
       "      <th>2</th>\n",
       "      <td>2021-05-27</td>\n",
       "      <td>101.10</td>\n",
       "      <td>101.05</td>\n",
       "      <td>100.40</td>\n",
       "      <td>99.25</td>\n",
       "    </tr>\n",
       "    <tr>\n",
       "      <th>3</th>\n",
       "      <td>2021-05-28</td>\n",
       "      <td>101.05</td>\n",
       "      <td>100.40</td>\n",
       "      <td>99.25</td>\n",
       "      <td>95.15</td>\n",
       "    </tr>\n",
       "    <tr>\n",
       "      <th>4</th>\n",
       "      <td>2021-05-31</td>\n",
       "      <td>100.40</td>\n",
       "      <td>99.25</td>\n",
       "      <td>95.15</td>\n",
       "      <td>91.95</td>\n",
       "    </tr>\n",
       "    <tr>\n",
       "      <th>...</th>\n",
       "      <td>...</td>\n",
       "      <td>...</td>\n",
       "      <td>...</td>\n",
       "      <td>...</td>\n",
       "      <td>...</td>\n",
       "    </tr>\n",
       "    <tr>\n",
       "      <th>203</th>\n",
       "      <td>2022-03-16</td>\n",
       "      <td>122.50</td>\n",
       "      <td>121.80</td>\n",
       "      <td>122.15</td>\n",
       "      <td>122.30</td>\n",
       "    </tr>\n",
       "    <tr>\n",
       "      <th>204</th>\n",
       "      <td>2022-03-17</td>\n",
       "      <td>121.80</td>\n",
       "      <td>122.15</td>\n",
       "      <td>122.30</td>\n",
       "      <td>122.90</td>\n",
       "    </tr>\n",
       "    <tr>\n",
       "      <th>205</th>\n",
       "      <td>2022-03-21</td>\n",
       "      <td>122.15</td>\n",
       "      <td>122.30</td>\n",
       "      <td>122.90</td>\n",
       "      <td>125.10</td>\n",
       "    </tr>\n",
       "    <tr>\n",
       "      <th>206</th>\n",
       "      <td>2022-03-22</td>\n",
       "      <td>122.30</td>\n",
       "      <td>122.90</td>\n",
       "      <td>125.10</td>\n",
       "      <td>124.55</td>\n",
       "    </tr>\n",
       "    <tr>\n",
       "      <th>207</th>\n",
       "      <td>2022-03-23</td>\n",
       "      <td>122.90</td>\n",
       "      <td>125.10</td>\n",
       "      <td>124.55</td>\n",
       "      <td>123.75</td>\n",
       "    </tr>\n",
       "  </tbody>\n",
       "</table>\n",
       "<p>208 rows × 5 columns</p>\n",
       "</div>"
      ],
      "text/plain": [
       "    Target Date  Target-3  Target-2  Target-1  Target\n",
       "0    2021-05-25    102.40    100.10    101.10  101.05\n",
       "1    2021-05-26    100.10    101.10    101.05  100.40\n",
       "2    2021-05-27    101.10    101.05    100.40   99.25\n",
       "3    2021-05-28    101.05    100.40     99.25   95.15\n",
       "4    2021-05-31    100.40     99.25     95.15   91.95\n",
       "..          ...       ...       ...       ...     ...\n",
       "203  2022-03-16    122.50    121.80    122.15  122.30\n",
       "204  2022-03-17    121.80    122.15    122.30  122.90\n",
       "205  2022-03-21    122.15    122.30    122.90  125.10\n",
       "206  2022-03-22    122.30    122.90    125.10  124.55\n",
       "207  2022-03-23    122.90    125.10    124.55  123.75\n",
       "\n",
       "[208 rows x 5 columns]"
      ]
     },
     "execution_count": 11,
     "metadata": {},
     "output_type": "execute_result"
    }
   ],
   "source": [
    "import numpy as np\n",
    "\n",
    "def df_to_windowed_df(dataframe, first_date_str, last_date_str, n=3):\n",
    "  first_date = str_to_datetime(first_date_str)\n",
    "  last_date  = str_to_datetime(last_date_str)\n",
    "\n",
    "  target_date = first_date\n",
    "  \n",
    "  dates = []\n",
    "  X, Y = [], []\n",
    "\n",
    "  last_time = False\n",
    "  while True:\n",
    "    df_subset = dataframe.loc[:target_date].tail(n+1)\n",
    "    \n",
    "    if len(df_subset) != n+1:\n",
    "      print(f'Error: Window of size {n} is too large for date {target_date}')\n",
    "      return\n",
    "\n",
    "    values = df_subset['Close'].to_numpy()\n",
    "    x, y = values[:-1], values[-1]\n",
    "\n",
    "    dates.append(target_date)\n",
    "    X.append(x)\n",
    "    Y.append(y)\n",
    "\n",
    "    next_week = dataframe.loc[target_date:target_date+datetime.timedelta(days=7)]\n",
    "    next_datetime_str = str(next_week.head(2).tail(1).index.values[0])\n",
    "    next_date_str = next_datetime_str.split('T')[0]\n",
    "    year_month_day = next_date_str.split('-')\n",
    "    year, month, day = year_month_day\n",
    "    next_date = datetime.datetime(day=int(day), month=int(month), year=int(year))\n",
    "    \n",
    "    if last_time:\n",
    "      break\n",
    "    \n",
    "    target_date = next_date\n",
    "\n",
    "    if target_date == last_date:\n",
    "      last_time = True\n",
    "    \n",
    "  ret_df = pd.DataFrame({})\n",
    "  ret_df['Target Date'] = dates\n",
    "  \n",
    "  X = np.array(X)\n",
    "  for i in range(0, n):\n",
    "    X[:, i]\n",
    "    ret_df[f'Target-{n-i}'] = X[:, i]\n",
    "  \n",
    "  ret_df['Target'] = Y\n",
    "\n",
    "  return ret_df\n",
    "\n",
    "# Start day second time around: '2021-03-25'\n",
    "date1 = '2021-05-25'\n",
    "date2 = '2022-03-23'\n",
    "windowed_df = df_to_windowed_df(df, \n",
    "                                date1, \n",
    "                                date2, \n",
    "                                n=3)\n",
    "windowed_df"
   ]
  },
  {
   "cell_type": "code",
   "execution_count": 12,
   "id": "e3186c9e-289c-4259-8ca2-b7856facb1e3",
   "metadata": {},
   "outputs": [
    {
     "data": {
      "text/plain": [
       "((208,), (208, 3, 1), (208,))"
      ]
     },
     "execution_count": 12,
     "metadata": {},
     "output_type": "execute_result"
    }
   ],
   "source": [
    "def windowed_df_to_date_X_y(windowed_dataframe):\n",
    "  df_as_np = windowed_dataframe.to_numpy()\n",
    "\n",
    "  dates = df_as_np[:, 0]\n",
    "\n",
    "  middle_matrix = df_as_np[:, 1:-1]\n",
    "  X = middle_matrix.reshape((len(dates), middle_matrix.shape[1], 1))\n",
    "\n",
    "  Y = df_as_np[:, -1]\n",
    "\n",
    "  return dates, X.astype(np.float32), Y.astype(np.float32)\n",
    "\n",
    "dates, X, y = windowed_df_to_date_X_y(windowed_df)\n",
    "\n",
    "dates.shape, X.shape, y.shape"
   ]
  },
  {
   "cell_type": "code",
   "execution_count": 13,
   "id": "5e2c7f5a-e632-456f-a9b7-bea3c6a8bc80",
   "metadata": {},
   "outputs": [
    {
     "data": {
      "text/plain": [
       "<matplotlib.legend.Legend at 0x1f1762669d0>"
      ]
     },
     "execution_count": 13,
     "metadata": {},
     "output_type": "execute_result"
    },
    {
     "data": {
      "image/png": "[encoded data removed]",
      "text/plain": [
       "<Figure size 432x288 with 1 Axes>"
      ]
     },
     "metadata": {
      "needs_background": "light"
     },
     "output_type": "display_data"
    }
   ],
   "source": [
    "q_80 = int(len(dates) * .8)\n",
    "q_90 = int(len(dates) * .9)\n",
    "\n",
    "dates_train, X_train, y_train = dates[:q_80], X[:q_80], y[:q_80]\n",
    "\n",
    "dates_val, X_val, y_val = dates[q_80:q_90], X[q_80:q_90], y[q_80:q_90]\n",
    "dates_test, X_test, y_test = dates[q_90:], X[q_90:], y[q_90:]\n",
    "\n",
    "plt.plot(dates_train, y_train)\n",
    "plt.plot(dates_val, y_val)\n",
    "plt.plot(dates_test, y_test)\n",
    "\n",
    "plt.legend(['Train', 'Validation', 'Test'])"
   ]
  },
  {
   "cell_type": "code",
   "execution_count": 14,
   "id": "da8083b4-d6d0-48c2-85b3-2bea33797d6e",
   "metadata": {
    "scrolled": true
   },
   "outputs": [
    {
     "name": "stdout",
     "output_type": "stream",
     "text": [
      "Epoch 1/100\n",
      "6/6 [==============================] - 3s 118ms/step - loss: 10967.8701 - mean_absolute_error: 103.9168 - val_loss: 12662.5645 - val_mean_absolute_error: 112.2611\n",
      "Epoch 2/100\n",
      "6/6 [==============================] - 0s 8ms/step - loss: 10878.1113 - mean_absolute_error: 103.4854 - val_loss: 12567.4258 - val_mean_absolute_error: 111.8367\n",
      "Epoch 3/100\n",
      "6/6 [==============================] - 0s 7ms/step - loss: 10792.3350 - mean_absolute_error: 103.0710 - val_loss: 12481.6650 - val_mean_absolute_error: 111.4525\n",
      "Epoch 4/100\n",
      "6/6 [==============================] - 0s 8ms/step - loss: 10711.4424 - mean_absolute_error: 102.6739 - val_loss: 12381.8203 - val_mean_absolute_error: 111.0035\n",
      "Epoch 5/100\n",
      "6/6 [==============================] - 0s 9ms/step - loss: 10608.4971 - mean_absolute_error: 102.1694 - val_loss: 12248.4727 - val_mean_absolute_error: 110.4008\n",
      "Epoch 6/100\n",
      "6/6 [==============================] - 0s 7ms/step - loss: 10465.4590 - mean_absolute_error: 101.4669 - val_loss: 12054.1982 - val_mean_absolute_error: 109.5171\n",
      "Epoch 7/100\n",
      "6/6 [==============================] - 0s 7ms/step - loss: 10257.8604 - mean_absolute_error: 100.4396 - val_loss: 11773.8379 - val_mean_absolute_error: 108.2293\n",
      "Epoch 8/100\n",
      "6/6 [==============================] - 0s 10ms/step - loss: 9970.0107 - mean_absolute_error: 98.9939 - val_loss: 11404.9316 - val_mean_absolute_error: 106.5114\n",
      "Epoch 9/100\n",
      "6/6 [==============================] - 0s 9ms/step - loss: 9609.4883 - mean_absolute_error: 97.1562 - val_loss: 10977.0635 - val_mean_absolute_error: 104.4841\n",
      "Epoch 10/100\n",
      "6/6 [==============================] - 0s 7ms/step - loss: 9206.2715 - mean_absolute_error: 95.0670 - val_loss: 10513.9521 - val_mean_absolute_error: 102.2431\n",
      "Epoch 11/100\n",
      "6/6 [==============================] - 0s 8ms/step - loss: 8751.3564 - mean_absolute_error: 92.6134 - val_loss: 9944.2832 - val_mean_absolute_error: 99.4161\n",
      "Epoch 12/100\n",
      "6/6 [==============================] - 0s 7ms/step - loss: 8178.8359 - mean_absolute_error: 89.4656 - val_loss: 9238.1094 - val_mean_absolute_error: 95.7983\n",
      "Epoch 13/100\n",
      "6/6 [==============================] - 0s 8ms/step - loss: 7495.9209 - mean_absolute_error: 85.5498 - val_loss: 8414.6465 - val_mean_absolute_error: 91.3966\n",
      "Epoch 14/100\n",
      "6/6 [==============================] - 0s 6ms/step - loss: 6682.0566 - mean_absolute_error: 80.6135 - val_loss: 7396.9741 - val_mean_absolute_error: 85.6436\n",
      "Epoch 15/100\n",
      "6/6 [==============================] - 0s 8ms/step - loss: 5675.7378 - mean_absolute_error: 74.0840 - val_loss: 6106.9731 - val_mean_absolute_error: 77.7392\n",
      "Epoch 16/100\n",
      "6/6 [==============================] - 0s 7ms/step - loss: 4440.6548 - mean_absolute_error: 65.2001 - val_loss: 4623.4653 - val_mean_absolute_error: 67.5341\n",
      "Epoch 17/100\n",
      "6/6 [==============================] - 0s 7ms/step - loss: 3230.0144 - mean_absolute_error: 55.1403 - val_loss: 3377.2505 - val_mean_absolute_error: 57.5856\n",
      "Epoch 18/100\n",
      "6/6 [==============================] - 0s 7ms/step - loss: 2235.1255 - mean_absolute_error: 45.3257 - val_loss: 2326.1338 - val_mean_absolute_error: 47.5878\n",
      "Epoch 19/100\n",
      "6/6 [==============================] - 0s 7ms/step - loss: 1397.1219 - mean_absolute_error: 34.9929 - val_loss: 1417.1367 - val_mean_absolute_error: 36.8160\n",
      "Epoch 20/100\n",
      "6/6 [==============================] - 0s 8ms/step - loss: 774.5037 - mean_absolute_error: 24.3453 - val_loss: 737.4592 - val_mean_absolute_error: 26.0073\n",
      "Epoch 21/100\n",
      "6/6 [==============================] - 0s 8ms/step - loss: 372.9069 - mean_absolute_error: 15.2159 - val_loss: 348.3034 - val_mean_absolute_error: 16.9542\n",
      "Epoch 22/100\n",
      "6/6 [==============================] - 0s 8ms/step - loss: 204.5760 - mean_absolute_error: 9.5284 - val_loss: 153.8418 - val_mean_absolute_error: 9.6541\n",
      "Epoch 23/100\n",
      "6/6 [==============================] - 0s 7ms/step - loss: 170.5896 - mean_absolute_error: 9.1201 - val_loss: 93.0269 - val_mean_absolute_error: 6.3720\n",
      "Epoch 24/100\n",
      "6/6 [==============================] - 0s 8ms/step - loss: 184.1180 - mean_absolute_error: 10.2292 - val_loss: 77.3492 - val_mean_absolute_error: 5.7186\n",
      "Epoch 25/100\n",
      "6/6 [==============================] - 0s 8ms/step - loss: 188.1028 - mean_absolute_error: 10.4905 - val_loss: 83.4463 - val_mean_absolute_error: 5.8858\n",
      "Epoch 26/100\n",
      "6/6 [==============================] - 0s 8ms/step - loss: 180.8858 - mean_absolute_error: 10.0495 - val_loss: 97.1894 - val_mean_absolute_error: 6.5984\n",
      "Epoch 27/100\n",
      "6/6 [==============================] - 0s 8ms/step - loss: 172.7728 - mean_absolute_error: 9.5397 - val_loss: 116.2925 - val_mean_absolute_error: 7.7162\n",
      "Epoch 28/100\n",
      "6/6 [==============================] - 0s 7ms/step - loss: 170.0252 - mean_absolute_error: 9.0681 - val_loss: 137.2219 - val_mean_absolute_error: 8.8800\n",
      "Epoch 29/100\n",
      "6/6 [==============================] - 0s 7ms/step - loss: 168.1086 - mean_absolute_error: 8.8143 - val_loss: 144.9204 - val_mean_absolute_error: 9.2773\n",
      "Epoch 30/100\n",
      "6/6 [==============================] - 0s 7ms/step - loss: 166.5995 - mean_absolute_error: 8.6235 - val_loss: 159.3632 - val_mean_absolute_error: 10.0434\n",
      "Epoch 31/100\n",
      "6/6 [==============================] - 0s 7ms/step - loss: 160.7466 - mean_absolute_error: 8.3504 - val_loss: 159.3656 - val_mean_absolute_error: 10.1551\n",
      "Epoch 32/100\n",
      "6/6 [==============================] - 0s 8ms/step - loss: 153.0972 - mean_absolute_error: 8.1396 - val_loss: 145.0338 - val_mean_absolute_error: 9.4734\n",
      "Epoch 33/100\n",
      "6/6 [==============================] - 0s 9ms/step - loss: 146.5764 - mean_absolute_error: 7.8129 - val_loss: 141.9747 - val_mean_absolute_error: 9.4538\n",
      "Epoch 34/100\n",
      "6/6 [==============================] - 0s 9ms/step - loss: 137.3203 - mean_absolute_error: 7.6920 - val_loss: 113.3267 - val_mean_absolute_error: 7.8927\n",
      "Epoch 35/100\n",
      "6/6 [==============================] - 0s 8ms/step - loss: 133.0149 - mean_absolute_error: 7.6146 - val_loss: 126.4739 - val_mean_absolute_error: 8.7987\n",
      "Epoch 36/100\n",
      "6/6 [==============================] - 0s 8ms/step - loss: 125.1864 - mean_absolute_error: 7.2432 - val_loss: 103.0056 - val_mean_absolute_error: 7.4612\n",
      "Epoch 37/100\n",
      "6/6 [==============================] - 0s 9ms/step - loss: 122.1663 - mean_absolute_error: 7.4810 - val_loss: 95.1354 - val_mean_absolute_error: 7.0707\n",
      "Epoch 38/100\n",
      "6/6 [==============================] - 0s 9ms/step - loss: 112.2959 - mean_absolute_error: 6.8572 - val_loss: 109.0219 - val_mean_absolute_error: 8.1258\n",
      "Epoch 39/100\n",
      "6/6 [==============================] - 0s 9ms/step - loss: 107.7068 - mean_absolute_error: 6.5615 - val_loss: 88.7413 - val_mean_absolute_error: 6.8733\n",
      "Epoch 40/100\n",
      "6/6 [==============================] - 0s 12ms/step - loss: 99.4985 - mean_absolute_error: 6.4219 - val_loss: 84.5299 - val_mean_absolute_error: 6.7424\n",
      "Epoch 41/100\n",
      "6/6 [==============================] - 0s 11ms/step - loss: 91.7704 - mean_absolute_error: 5.9816 - val_loss: 68.4114 - val_mean_absolute_error: 5.5659\n",
      "Epoch 42/100\n",
      "6/6 [==============================] - 0s 10ms/step - loss: 84.5484 - mean_absolute_error: 5.9666 - val_loss: 71.4531 - val_mean_absolute_error: 6.0358\n",
      "Epoch 43/100\n",
      "6/6 [==============================] - 0s 10ms/step - loss: 74.6128 - mean_absolute_error: 5.3049 - val_loss: 74.0179 - val_mean_absolute_error: 6.4559\n",
      "Epoch 44/100\n",
      "6/6 [==============================] - 0s 9ms/step - loss: 64.7426 - mean_absolute_error: 4.5505 - val_loss: 59.2190 - val_mean_absolute_error: 5.1953\n",
      "Epoch 45/100\n",
      "6/6 [==============================] - 0s 8ms/step - loss: 57.6788 - mean_absolute_error: 4.4580 - val_loss: 51.7704 - val_mean_absolute_error: 4.7963\n",
      "Epoch 46/100\n",
      "6/6 [==============================] - 0s 7ms/step - loss: 54.5519 - mean_absolute_error: 4.2054 - val_loss: 40.7892 - val_mean_absolute_error: 4.3633\n",
      "Epoch 47/100\n",
      "6/6 [==============================] - 0s 9ms/step - loss: 50.1645 - mean_absolute_error: 4.2258 - val_loss: 48.8780 - val_mean_absolute_error: 4.9657\n",
      "Epoch 48/100\n",
      "6/6 [==============================] - 0s 8ms/step - loss: 45.6721 - mean_absolute_error: 3.8471 - val_loss: 36.6393 - val_mean_absolute_error: 4.2523\n",
      "Epoch 49/100\n",
      "6/6 [==============================] - 0s 8ms/step - loss: 42.0709 - mean_absolute_error: 3.7180 - val_loss: 41.2427 - val_mean_absolute_error: 4.5249\n"
     ]
    },
    {
     "name": "stdout",
     "output_type": "stream",
     "text": [
      "Epoch 50/100\n",
      "6/6 [==============================] - 0s 7ms/step - loss: 40.6601 - mean_absolute_error: 3.8539 - val_loss: 46.4307 - val_mean_absolute_error: 5.1327\n",
      "Epoch 51/100\n",
      "6/6 [==============================] - 0s 9ms/step - loss: 41.5941 - mean_absolute_error: 3.9132 - val_loss: 32.0555 - val_mean_absolute_error: 4.5292\n",
      "Epoch 52/100\n",
      "6/6 [==============================] - 0s 8ms/step - loss: 38.2337 - mean_absolute_error: 3.6560 - val_loss: 37.9514 - val_mean_absolute_error: 4.5132\n",
      "Epoch 53/100\n",
      "6/6 [==============================] - 0s 7ms/step - loss: 37.6244 - mean_absolute_error: 3.8908 - val_loss: 35.9021 - val_mean_absolute_error: 4.3630\n",
      "Epoch 54/100\n",
      "6/6 [==============================] - 0s 8ms/step - loss: 38.0697 - mean_absolute_error: 3.6456 - val_loss: 29.8190 - val_mean_absolute_error: 4.2208\n",
      "Epoch 55/100\n",
      "6/6 [==============================] - 0s 8ms/step - loss: 36.1295 - mean_absolute_error: 4.1016 - val_loss: 40.3004 - val_mean_absolute_error: 4.8317\n",
      "Epoch 56/100\n",
      "6/6 [==============================] - 0s 7ms/step - loss: 32.9747 - mean_absolute_error: 3.3901 - val_loss: 29.4920 - val_mean_absolute_error: 4.2877\n",
      "Epoch 57/100\n",
      "6/6 [==============================] - 0s 8ms/step - loss: 33.9324 - mean_absolute_error: 4.1375 - val_loss: 38.1961 - val_mean_absolute_error: 4.7162\n",
      "Epoch 58/100\n",
      "6/6 [==============================] - 0s 7ms/step - loss: 30.8247 - mean_absolute_error: 3.3099 - val_loss: 28.9947 - val_mean_absolute_error: 4.1741\n",
      "Epoch 59/100\n",
      "6/6 [==============================] - 0s 7ms/step - loss: 30.1788 - mean_absolute_error: 3.7839 - val_loss: 39.9121 - val_mean_absolute_error: 4.8884\n",
      "Epoch 60/100\n",
      "6/6 [==============================] - 0s 7ms/step - loss: 31.4091 - mean_absolute_error: 3.5219 - val_loss: 29.0461 - val_mean_absolute_error: 4.1962\n",
      "Epoch 61/100\n",
      "6/6 [==============================] - 0s 7ms/step - loss: 28.3767 - mean_absolute_error: 3.5728 - val_loss: 37.8717 - val_mean_absolute_error: 4.7172\n",
      "Epoch 62/100\n",
      "6/6 [==============================] - 0s 7ms/step - loss: 27.4966 - mean_absolute_error: 3.1468 - val_loss: 28.9277 - val_mean_absolute_error: 3.9607\n",
      "Epoch 63/100\n",
      "6/6 [==============================] - 0s 7ms/step - loss: 25.3078 - mean_absolute_error: 3.1880 - val_loss: 31.6844 - val_mean_absolute_error: 4.1037\n",
      "Epoch 64/100\n",
      "6/6 [==============================] - 0s 7ms/step - loss: 25.2312 - mean_absolute_error: 3.2185 - val_loss: 29.7715 - val_mean_absolute_error: 3.9271\n",
      "Epoch 65/100\n",
      "6/6 [==============================] - 0s 7ms/step - loss: 24.3993 - mean_absolute_error: 3.0792 - val_loss: 29.6669 - val_mean_absolute_error: 3.9176\n",
      "Epoch 66/100\n",
      "6/6 [==============================] - 0s 7ms/step - loss: 23.9303 - mean_absolute_error: 3.1881 - val_loss: 34.3204 - val_mean_absolute_error: 4.3964\n",
      "Epoch 67/100\n",
      "6/6 [==============================] - 0s 7ms/step - loss: 23.8626 - mean_absolute_error: 3.0825 - val_loss: 28.8579 - val_mean_absolute_error: 4.0976\n",
      "Epoch 68/100\n",
      "6/6 [==============================] - 0s 8ms/step - loss: 25.5575 - mean_absolute_error: 3.5786 - val_loss: 39.4216 - val_mean_absolute_error: 4.8549\n",
      "Epoch 69/100\n",
      "6/6 [==============================] - 0s 8ms/step - loss: 24.5514 - mean_absolute_error: 3.0761 - val_loss: 28.7718 - val_mean_absolute_error: 4.0280\n",
      "Epoch 70/100\n",
      "6/6 [==============================] - 0s 8ms/step - loss: 24.0962 - mean_absolute_error: 3.3223 - val_loss: 30.1083 - val_mean_absolute_error: 3.9197\n",
      "Epoch 71/100\n",
      "6/6 [==============================] - 0s 8ms/step - loss: 26.0677 - mean_absolute_error: 3.7778 - val_loss: 32.0915 - val_mean_absolute_error: 4.1297\n",
      "Epoch 72/100\n",
      "6/6 [==============================] - 0s 9ms/step - loss: 22.4786 - mean_absolute_error: 2.9677 - val_loss: 30.0639 - val_mean_absolute_error: 3.9206\n",
      "Epoch 73/100\n",
      "6/6 [==============================] - 0s 8ms/step - loss: 21.9291 - mean_absolute_error: 3.1561 - val_loss: 32.2940 - val_mean_absolute_error: 4.1538\n",
      "Epoch 74/100\n",
      "6/6 [==============================] - 0s 8ms/step - loss: 21.2627 - mean_absolute_error: 2.9533 - val_loss: 30.6244 - val_mean_absolute_error: 3.9688\n",
      "Epoch 75/100\n",
      "6/6 [==============================] - 0s 6ms/step - loss: 20.5439 - mean_absolute_error: 2.8876 - val_loss: 29.5371 - val_mean_absolute_error: 3.8951\n",
      "Epoch 76/100\n",
      "6/6 [==============================] - 0s 8ms/step - loss: 20.0118 - mean_absolute_error: 3.0100 - val_loss: 31.0200 - val_mean_absolute_error: 4.0029\n",
      "Epoch 77/100\n",
      "6/6 [==============================] - 0s 8ms/step - loss: 20.5523 - mean_absolute_error: 2.9568 - val_loss: 29.1875 - val_mean_absolute_error: 3.9182\n",
      "Epoch 78/100\n",
      "6/6 [==============================] - 0s 8ms/step - loss: 20.6427 - mean_absolute_error: 3.0347 - val_loss: 30.4447 - val_mean_absolute_error: 3.9449\n",
      "Epoch 79/100\n",
      "6/6 [==============================] - 0s 7ms/step - loss: 20.9401 - mean_absolute_error: 3.2962 - val_loss: 32.3820 - val_mean_absolute_error: 4.1567\n",
      "Epoch 80/100\n",
      "6/6 [==============================] - 0s 7ms/step - loss: 22.7605 - mean_absolute_error: 3.0855 - val_loss: 30.1417 - val_mean_absolute_error: 3.9296\n",
      "Epoch 81/100\n",
      "6/6 [==============================] - 0s 8ms/step - loss: 23.4919 - mean_absolute_error: 3.6935 - val_loss: 31.6836 - val_mean_absolute_error: 4.0788\n",
      "Epoch 82/100\n",
      "6/6 [==============================] - 0s 7ms/step - loss: 23.9276 - mean_absolute_error: 3.2158 - val_loss: 29.8060 - val_mean_absolute_error: 3.8755\n",
      "Epoch 83/100\n",
      "6/6 [==============================] - 0s 7ms/step - loss: 23.4069 - mean_absolute_error: 3.6136 - val_loss: 31.6436 - val_mean_absolute_error: 4.0483\n",
      "Epoch 84/100\n",
      "6/6 [==============================] - 0s 8ms/step - loss: 20.7720 - mean_absolute_error: 2.9974 - val_loss: 33.2203 - val_mean_absolute_error: 4.2180\n",
      "Epoch 85/100\n",
      "6/6 [==============================] - 0s 8ms/step - loss: 19.0799 - mean_absolute_error: 2.9631 - val_loss: 30.2399 - val_mean_absolute_error: 3.9127\n",
      "Epoch 86/100\n",
      "6/6 [==============================] - 0s 7ms/step - loss: 18.3631 - mean_absolute_error: 2.8849 - val_loss: 33.2073 - val_mean_absolute_error: 4.2233\n",
      "Epoch 87/100\n",
      "6/6 [==============================] - 0s 7ms/step - loss: 18.0162 - mean_absolute_error: 2.8031 - val_loss: 30.4916 - val_mean_absolute_error: 3.9141\n",
      "Epoch 88/100\n",
      "6/6 [==============================] - 0s 7ms/step - loss: 18.1475 - mean_absolute_error: 2.8610 - val_loss: 30.4574 - val_mean_absolute_error: 3.9233\n",
      "Epoch 89/100\n",
      "6/6 [==============================] - 0s 8ms/step - loss: 18.2216 - mean_absolute_error: 2.8129 - val_loss: 31.6634 - val_mean_absolute_error: 4.0722\n",
      "Epoch 90/100\n",
      "6/6 [==============================] - 0s 7ms/step - loss: 18.0524 - mean_absolute_error: 2.8857 - val_loss: 32.0654 - val_mean_absolute_error: 4.1128\n",
      "Epoch 91/100\n",
      "6/6 [==============================] - 0s 8ms/step - loss: 17.8409 - mean_absolute_error: 2.8017 - val_loss: 31.8175 - val_mean_absolute_error: 4.0478\n",
      "Epoch 92/100\n",
      "6/6 [==============================] - 0s 9ms/step - loss: 18.2805 - mean_absolute_error: 2.9320 - val_loss: 30.6428 - val_mean_absolute_error: 3.9680\n",
      "Epoch 93/100\n",
      "6/6 [==============================] - 0s 8ms/step - loss: 17.8309 - mean_absolute_error: 2.9182 - val_loss: 32.9467 - val_mean_absolute_error: 4.1753\n",
      "Epoch 94/100\n",
      "6/6 [==============================] - 0s 7ms/step - loss: 17.4079 - mean_absolute_error: 2.8422 - val_loss: 32.4679 - val_mean_absolute_error: 4.1291\n",
      "Epoch 95/100\n",
      "6/6 [==============================] - 0s 8ms/step - loss: 17.7052 - mean_absolute_error: 2.7742 - val_loss: 31.0680 - val_mean_absolute_error: 3.9698\n",
      "Epoch 96/100\n",
      "6/6 [==============================] - 0s 8ms/step - loss: 17.0656 - mean_absolute_error: 2.8394 - val_loss: 31.3609 - val_mean_absolute_error: 4.0153\n",
      "Epoch 97/100\n",
      "6/6 [==============================] - 0s 10ms/step - loss: 16.8823 - mean_absolute_error: 2.8655 - val_loss: 31.0484 - val_mean_absolute_error: 3.9840\n",
      "Epoch 98/100\n",
      "6/6 [==============================] - 0s 8ms/step - loss: 16.5559 - mean_absolute_error: 2.8143 - val_loss: 32.4464 - val_mean_absolute_error: 4.1182\n",
      "Epoch 99/100\n",
      "6/6 [==============================] - 0s 7ms/step - loss: 16.6673 - mean_absolute_error: 2.7760 - val_loss: 30.2552 - val_mean_absolute_error: 3.9653\n"
     ]
    },
    {
     "name": "stdout",
     "output_type": "stream",
     "text": [
      "Epoch 100/100\n",
      "6/6 [==============================] - 0s 9ms/step - loss: 16.7798 - mean_absolute_error: 2.9420 - val_loss: 32.4512 - val_mean_absolute_error: 4.1141\n"
     ]
    },
    {
     "data": {
      "text/plain": [
       "<keras.callbacks.History at 0x1f107a8e460>"
      ]
     },
     "execution_count": 14,
     "metadata": {},
     "output_type": "execute_result"
    }
   ],
   "source": [
    "from tensorflow.keras.models import Sequential\n",
    "from tensorflow.keras.optimizers import Adam\n",
    "from tensorflow.keras import layers\n",
    "\n",
    "model = Sequential([layers.Input((3, 1)),\n",
    "                    layers.LSTM(64),\n",
    "                    layers.Dense(32, activation='relu'),\n",
    "                    layers.Dense(32, activation='relu'),\n",
    "                    layers.Dense(1)])\n",
    "\n",
    "model.compile(loss='mse', \n",
    "              optimizer=Adam(learning_rate=0.001),\n",
    "              metrics=['mean_absolute_error'])\n",
    "\n",
    "model.fit(X_train, y_train, validation_data=(X_val, y_val), epochs=100)"
   ]
  },
  {
   "cell_type": "code",
   "execution_count": 15,
   "id": "a7be772a-baa4-4ad1-9076-16edc8d38d71",
   "metadata": {},
   "outputs": [
    {
     "name": "stdout",
     "output_type": "stream",
     "text": [
      "6/6 [==============================] - 1s 1ms/step\n"
     ]
    },
    {
     "data": {
      "text/plain": [
       "<matplotlib.legend.Legend at 0x1f10b6323d0>"
      ]
     },
     "execution_count": 15,
     "metadata": {},
     "output_type": "execute_result"
    },
    {
     "data": {
      "image/png": "[encoded data removed]",
      "text/plain": [
       "<Figure size 432x288 with 1 Axes>"
      ]
     },
     "metadata": {
      "needs_background": "light"
     },
     "output_type": "display_data"
    }
   ],
   "source": [
    "train_predictions = model.predict(X_train).flatten()\n",
    "\n",
    "plt.plot(dates_train, train_predictions)\n",
    "plt.plot(dates_train, y_train)\n",
    "plt.legend(['Training Predictions', 'Training Observations'])"
   ]
  },
  {
   "cell_type": "code",
   "execution_count": 16,
   "id": "903013e5-f2b4-478c-af94-fe46ef308e67",
   "metadata": {},
   "outputs": [
    {
     "name": "stdout",
     "output_type": "stream",
     "text": [
      "1/1 [==============================] - 0s 19ms/step\n"
     ]
    },
    {
     "data": {
      "text/plain": [
       "<matplotlib.legend.Legend at 0x1f10c674e50>"
      ]
     },
     "execution_count": 16,
     "metadata": {},
     "output_type": "execute_result"
    },
    {
     "data": {
      "image/png": "[encoded data removed]",
      "text/plain": [
       "<Figure size 432x288 with 1 Axes>"
      ]
     },
     "metadata": {
      "needs_background": "light"
     },
     "output_type": "display_data"
    }
   ],
   "source": [
    "val_predictions = model.predict(X_val).flatten()\n",
    "\n",
    "plt.plot(dates_val, val_predictions)\n",
    "plt.plot(dates_val, y_val)\n",
    "plt.legend(['Validation Predictions', 'Validation Observations'])"
   ]
  },
  {
   "cell_type": "code",
   "execution_count": 17,
   "id": "5cff7cae-2f5b-4868-85eb-4d3d1f35d4a6",
   "metadata": {},
   "outputs": [
    {
     "name": "stdout",
     "output_type": "stream",
     "text": [
      "1/1 [==============================] - 0s 20ms/step\n"
     ]
    },
    {
     "data": {
      "text/plain": [
       "<matplotlib.legend.Legend at 0x1f10c6c1ee0>"
      ]
     },
     "execution_count": 17,
     "metadata": {},
     "output_type": "execute_result"
    },
    {
     "data": {
      "image/png": "[encoded data removed]",
      "text/plain": [
       "<Figure size 432x288 with 1 Axes>"
      ]
     },
     "metadata": {
      "needs_background": "light"
     },
     "output_type": "display_data"
    }
   ],
   "source": [
    "test_predictions = model.predict(X_test).flatten()\n",
    "\n",
    "plt.plot(dates_test, test_predictions)\n",
    "plt.plot(dates_test, y_test)\n",
    "plt.legend(['Testing Predictions', 'Testing Observations'])"
   ]
  },
  {
   "cell_type": "code",
   "execution_count": 18,
   "id": "716b978d-de3b-4efd-9b61-60faefe5faaf",
   "metadata": {},
   "outputs": [
    {
     "data": {
      "text/plain": [
       "<matplotlib.legend.Legend at 0x1f10c6a4850>"
      ]
     },
     "execution_count": 18,
     "metadata": {},
     "output_type": "execute_result"
    },
    {
     "data": {
      "image/png": "[encoded data removed]",
      "text/plain": [
       "<Figure size 432x288 with 1 Axes>"
      ]
     },
     "metadata": {
      "needs_background": "light"
     },
     "output_type": "display_data"
    }
   ],
   "source": [
    "plt.plot(dates_train, train_predictions)\n",
    "plt.plot(dates_train, y_train)\n",
    "plt.plot(dates_val, val_predictions)\n",
    "plt.plot(dates_val, y_val)\n",
    "plt.plot(dates_test, test_predictions)\n",
    "plt.plot(dates_test, y_test)\n",
    "plt.legend(['Training Predictions', \n",
    "            'Training Observations',\n",
    "            'Validation Predictions', \n",
    "            'Validation Observations',\n",
    "            'Testing Predictions', \n",
    "            'Testing Observations'])"
   ]
  },
  {
   "cell_type": "code",
   "execution_count": 19,
   "id": "2fc0645d-7920-440a-8dea-beb5a6462659",
   "metadata": {
    "scrolled": true
   },
   "outputs": [
    {
     "name": "stdout",
     "output_type": "stream",
     "text": [
      "1/1 [==============================] - 0s 19ms/step\n",
      "1/1 [==============================] - 0s 18ms/step\n",
      "1/1 [==============================] - 0s 17ms/step\n",
      "1/1 [==============================] - 0s 19ms/step\n",
      "1/1 [==============================] - 0s 17ms/step\n",
      "1/1 [==============================] - 0s 15ms/step\n",
      "1/1 [==============================] - 0s 18ms/step\n",
      "1/1 [==============================] - 0s 17ms/step\n",
      "1/1 [==============================] - 0s 20ms/step\n",
      "1/1 [==============================] - 0s 17ms/step\n",
      "1/1 [==============================] - 0s 17ms/step\n",
      "1/1 [==============================] - 0s 17ms/step\n",
      "1/1 [==============================] - 0s 18ms/step\n",
      "1/1 [==============================] - 0s 24ms/step\n",
      "1/1 [==============================] - 0s 17ms/step\n",
      "1/1 [==============================] - 0s 21ms/step\n",
      "1/1 [==============================] - 0s 22ms/step\n",
      "1/1 [==============================] - 0s 21ms/step\n",
      "1/1 [==============================] - 0s 18ms/step\n",
      "1/1 [==============================] - 0s 17ms/step\n",
      "1/1 [==============================] - 0s 23ms/step\n",
      "1/1 [==============================] - 0s 19ms/step\n",
      "1/1 [==============================] - 0s 17ms/step\n",
      "1/1 [==============================] - 0s 18ms/step\n",
      "1/1 [==============================] - 0s 23ms/step\n",
      "1/1 [==============================] - 0s 15ms/step\n",
      "1/1 [==============================] - 0s 17ms/step\n",
      "1/1 [==============================] - 0s 19ms/step\n",
      "1/1 [==============================] - 0s 19ms/step\n",
      "1/1 [==============================] - 0s 19ms/step\n",
      "1/1 [==============================] - 0s 19ms/step\n",
      "1/1 [==============================] - 0s 16ms/step\n",
      "1/1 [==============================] - 0s 18ms/step\n",
      "1/1 [==============================] - 0s 15ms/step\n",
      "1/1 [==============================] - 0s 18ms/step\n",
      "1/1 [==============================] - 0s 16ms/step\n",
      "1/1 [==============================] - 0s 18ms/step\n",
      "1/1 [==============================] - 0s 19ms/step\n",
      "1/1 [==============================] - 0s 20ms/step\n",
      "1/1 [==============================] - 0s 16ms/step\n",
      "1/1 [==============================] - 0s 17ms/step\n",
      "1/1 [==============================] - 0s 18ms/step\n"
     ]
    }
   ],
   "source": [
    "from copy import deepcopy\n",
    "\n",
    "recursive_predictions = []\n",
    "recursive_dates = np.concatenate([dates_val, dates_test])\n",
    "\n",
    "for target_date in recursive_dates:\n",
    "  last_window = deepcopy(X_train[-1])\n",
    "  next_prediction = model.predict(np.array([last_window])).flatten()\n",
    "  recursive_predictions.append(next_prediction)\n",
    "  last_window[-1] = next_prediction"
   ]
  },
  {
   "cell_type": "code",
   "execution_count": 20,
   "id": "490ba1a6-1ff3-4c06-aeaa-d4a75e84ca9e",
   "metadata": {},
   "outputs": [
    {
     "data": {
      "text/plain": [
       "<matplotlib.legend.Legend at 0x1f10c888a90>"
      ]
     },
     "execution_count": 20,
     "metadata": {},
     "output_type": "execute_result"
    },
    {
     "data": {
      "image/png": "[encoded data removed]",
      "text/plain": [
       "<Figure size 432x288 with 1 Axes>"
      ]
     },
     "metadata": {
      "needs_background": "light"
     },
     "output_type": "display_data"
    }
   ],
   "source": [
    "plt.plot(dates_train, train_predictions)\n",
    "plt.plot(dates_train, y_train)\n",
    "plt.plot(dates_val, val_predictions)\n",
    "plt.plot(dates_val, y_val)\n",
    "plt.plot(dates_test, test_predictions)\n",
    "plt.plot(dates_test, y_test)\n",
    "plt.plot(recursive_dates, recursive_predictions)\n",
    "plt.legend(['Training Predictions', \n",
    "            'Training Observations',\n",
    "            'Validation Predictions', \n",
    "            'Validation Observations',\n",
    "            'Testing Predictions', \n",
    "            'Testing Observations',\n",
    "            'Recursive Predictions'])"
   ]
  },
  {
   "cell_type": "code",
   "execution_count": null,
   "id": "5601413a",
   "metadata": {},
   "outputs": [],
   "source": []
  }
 ],
 "metadata": {
  "kernelspec": {
   "display_name": "Python 3 (ipykernel)",
   "language": "python",
   "name": "python3"
  },
  "language_info": {
   "codemirror_mode": {
    "name": "ipython",
    "version": 3
   },
   "file_extension": ".py",
   "mimetype": "text/x-python",
   "name": "python",
   "nbconvert_exporter": "python",
   "pygments_lexer": "ipython3",
   "version": "3.9.12"
  }
 },
 "nbformat": 4,
 "nbformat_minor": 5
}
